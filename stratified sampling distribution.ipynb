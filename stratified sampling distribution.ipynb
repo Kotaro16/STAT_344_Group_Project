{
 "cells": [
  {
   "cell_type": "markdown",
   "metadata": {},
   "source": [
    "## STAT 344 Group Project"
   ]
  },
  {
   "cell_type": "code",
   "execution_count": 6,
   "metadata": {
    "vscode": {
     "languageId": "r"
    }
   },
   "outputs": [],
   "source": [
    "# load the pakages\n",
    "library(dplyr)"
   ]
  },
  {
   "cell_type": "code",
   "execution_count": 22,
   "metadata": {
    "vscode": {
     "languageId": "r"
    }
   },
   "outputs": [],
   "source": [
    "# read the data\n",
    "data <- read.csv(\"~/Desktop/STAT 344/project/Engineering_graduate_salary.csv\", header=TRUE)\n",
    "\n",
    "# set seed\n",
    "set.seed(1)"
   ]
  },
  {
   "cell_type": "code",
   "execution_count": 26,
   "metadata": {
    "vscode": {
     "languageId": "r"
    }
   },
   "outputs": [
    {
     "data": {
      "text/html": [
       "2998"
      ],
      "text/latex": [
       "2998"
      ],
      "text/markdown": [
       "2998"
      ],
      "text/plain": [
       "[1] 2998"
      ]
     },
     "metadata": {},
     "output_type": "display_data"
    }
   ],
   "source": [
    "# some important number\n",
    "N <- nrow(data)  # Total population size\n",
    "N\n",
    "sample_size <- 300"
   ]
  },
  {
   "cell_type": "code",
   "execution_count": 27,
   "metadata": {
    "vscode": {
     "languageId": "r"
    }
   },
   "outputs": [],
   "source": [
    "# SRS\n"
   ]
  },
  {
   "cell_type": "code",
   "execution_count": 25,
   "metadata": {
    "vscode": {
     "languageId": "r"
    }
   },
   "outputs": [
    {
     "name": "stdout",
     "output_type": "stream",
     "text": [
      "Stratified Mean Salary: 33183.79 \n",
      "Stratified Standard Error of Mean Salary with FPC: 1762.832 \n",
      "Stratified Proportion of A GPA: 0.01167445 \n",
      "Stratified Standard Error of Proportion of A GPA with FPC: 0.001748675 \n"
     ]
    }
   ],
   "source": [
    "# Stratified Sampling by Gender\n",
    "stratified_sample <- data %>%\n",
    "  group_by(Gender) %>%\n",
    "  sample_frac(0.1)  # Adjust fraction for 10%\n",
    "\n",
    "stratified_stats <- stratified_sample %>%\n",
    "  group_by(Gender) %>%\n",
    "  summarise(\n",
    "    N_h = n(),\n",
    "    n_h = n(),\n",
    "    mean_salary_h = mean(Salary, na.rm = TRUE),\n",
    "    prop_A_gpa_h = mean(collegeGPA >= 80, na.rm = TRUE),\n",
    "    var_salary_h = var(Salary, na.rm = TRUE),\n",
    "    var_prop_A_h = prop_A_gpa_h * (1 - prop_A_gpa_h)\n",
    "  ) %>%\n",
    "  ungroup() %>%\n",
    "  mutate(weight_h = N_h / N)  # Weight of each stratum\n",
    "\n",
    "# Combined estimates using weights\n",
    "stratified_mean_salary <- sum(stratified_stats$weight_h * stratified_stats$mean_salary_h)\n",
    "stratified_prop_A_gpa <- sum(stratified_stats$weight_h * stratified_stats$prop_A_gpa_h)\n",
    "\n",
    "# Calculate SE with FPC for the combined stratified estimates\n",
    "stratified_se_salary <- sqrt(sum((stratified_stats$weight_h^2) * (stratified_stats$var_salary_h / stratified_stats$n_h))) * sqrt((N - nrow(stratified_sample)) / (N - 1))\n",
    "stratified_se_prop_A <- sqrt(sum((stratified_stats$weight_h^2) * (stratified_stats$var_prop_A_h / stratified_stats$n_h))) * sqrt((N - nrow(stratified_sample)) / (N - 1))\n",
    "\n",
    "cat(\"Stratified Mean Salary:\", stratified_mean_salary, \"\\n\")\n",
    "cat(\"Stratified Standard Error of Mean Salary with FPC:\", stratified_se_salary, \"\\n\")\n",
    "\n",
    "cat(\"Stratified Proportion of A GPA:\", stratified_prop_A_gpa, \"\\n\")\n",
    "cat(\"Stratified Standard Error of Proportion of A GPA with FPC:\", stratified_se_prop_A, \"\\n\")"
   ]
  },
  {
   "cell_type": "code",
   "execution_count": null,
   "metadata": {
    "vscode": {
     "languageId": "r"
    }
   },
   "outputs": [],
   "source": []
  },
  {
   "cell_type": "code",
   "execution_count": null,
   "metadata": {
    "vscode": {
     "languageId": "r"
    }
   },
   "outputs": [],
   "source": []
  }
 ],
 "metadata": {
  "kernelspec": {
   "display_name": "R",
   "language": "R",
   "name": "ir"
  },
  "language_info": {
   "codemirror_mode": "r",
   "file_extension": ".r",
   "mimetype": "text/x-r-source",
   "name": "R",
   "pygments_lexer": "r",
   "version": "4.3.2"
  }
 },
 "nbformat": 4,
 "nbformat_minor": 2
}
